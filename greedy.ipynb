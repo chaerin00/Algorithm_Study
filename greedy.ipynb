{
 "cells": [
  {
   "cell_type": "code",
   "execution_count": 11,
   "metadata": {
    "scrolled": true
   },
   "outputs": [
    {
     "name": "stdout",
     "output_type": "stream",
     "text": [
      "19 3\n",
      "4\n"
     ]
    }
   ],
   "source": [
    "n,k=map(int,input().split())\n",
    "\n",
    "result=0\n",
    "\n",
    "while True:\n",
    "    target=(n//k)*k\n",
    "    result+=(n-target)\n",
    "    n=target\n",
    "    \n",
    "    if n<k:\n",
    "        break\n",
    "        \n",
    "    result+=1\n",
    "    n//=k\n",
    "    \n",
    "result +=(n-1)\n",
    "print(result)"
   ]
  },
  {
   "cell_type": "code",
   "execution_count": 2,
   "metadata": {},
   "outputs": [
    {
     "name": "stdout",
     "output_type": "stream",
     "text": [
      "578\n",
      "1 35\n",
      "2 280\n",
      "280\n"
     ]
    }
   ],
   "source": [
    "nums=list(map(int,input()))\n",
    "\n",
    "for i in range(0,len(nums)):\n",
    "    if i==0:\n",
    "        result=nums[0]\n",
    "        continue\n",
    "        \n",
    "    if result==0 or result==1 or nums[i]==1 or nums[i]==0:\n",
    "        result+=nums[i]\n",
    "    else:\n",
    "        result*=nums[i]\n",
    "        \n",
    "    print(i,result)\n",
    "        \n",
    "print(result)"
   ]
  },
  {
   "cell_type": "code",
   "execution_count": 8,
   "metadata": {},
   "outputs": [
    {
     "name": "stdout",
     "output_type": "stream",
     "text": [
      "모험가의 수: 5\n",
      "2 3 1 2 2 \n",
      "2\n"
     ]
    }
   ],
   "source": [
    "n=int(input(\"모험가의 수: \"))\n",
    "adv=list(map(int,input().split()))\n",
    "group=0\n",
    "while True:\n",
    "    MAX=max(adv)\n",
    "    if n<MAX:\n",
    "        break\n",
    "        \n",
    "    n-=MAX\n",
    "    group+=1\n",
    "    adv.remove(max(adv))\n",
    "    \n",
    "print(group)\n",
    "        \n",
    "        \n"
   ]
  },
  {
   "cell_type": "code",
   "execution_count": 11,
   "metadata": {},
   "outputs": [
    {
     "name": "stdout",
     "output_type": "stream",
     "text": [
      "모험가의 수: 5\n",
      "2 3 1 2 2\n",
      "2\n"
     ]
    }
   ],
   "source": [
    "n=int(input(\"모험가의 수: \"))\n",
    "adv=list(map(int,input().split()))\n",
    "adv.sort()\n",
    "\n",
    "result=0\n",
    "count=0\n",
    "\n",
    "for i in adv:\n",
    "    count +=1\n",
    "    if count>=i:\n",
    "        result+=1\n",
    "        count=0\n",
    "        \n",
    "print(result)"
   ]
  },
  {
   "cell_type": "code",
   "execution_count": null,
   "metadata": {},
   "outputs": [],
   "source": []
  }
 ],
 "metadata": {
  "kernelspec": {
   "display_name": "Python 3",
   "language": "python",
   "name": "python3"
  },
  "language_info": {
   "codemirror_mode": {
    "name": "ipython",
    "version": 3
   },
   "file_extension": ".py",
   "mimetype": "text/x-python",
   "name": "python",
   "nbconvert_exporter": "python",
   "pygments_lexer": "ipython3",
   "version": "3.8.5"
  }
 },
 "nbformat": 4,
 "nbformat_minor": 4
}
