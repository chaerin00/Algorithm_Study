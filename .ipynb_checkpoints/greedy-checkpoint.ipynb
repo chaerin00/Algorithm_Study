{
 "cells": [
  {
   "cell_type": "code",
   "execution_count": 11,
   "metadata": {
    "scrolled": true
   },
   "outputs": [
    {
     "name": "stdout",
     "output_type": "stream",
     "text": [
      "19 3\n",
      "4\n"
     ]
    }
   ],
   "source": [
    "n,k=map(int,input().split())\n",
    "\n",
    "result=0\n",
    "\n",
    "while True:\n",
    "    target=(n//k)*k\n",
    "    result+=(n-target)\n",
    "    n=target\n",
    "    \n",
    "    if n<k:\n",
    "        break\n",
    "        \n",
    "    result+=1\n",
    "    n//=k\n",
    "    \n",
    "result +=(n-1)\n",
    "print(result)"
   ]
  },
  {
   "cell_type": "code",
   "execution_count": null,
   "metadata": {},
   "outputs": [],
   "source": [
    "nums=list(map(int,input()))\n",
    "\n",
    "for i in range(0,len(nums)):\n",
    "    if i==0:\n",
    "        result=nums[0]\n",
    "        continue\n",
    "        \n",
    "    if result==0 or result==1 or num==1 or num==0:\n",
    "        result+=nums[i]\n",
    "    else:\n",
    "        result*=nums[i]\n",
    "        \n",
    "    print(i,result)\n",
    "        \n",
    "print(result)"
   ]
  }
 ],
 "metadata": {
  "kernelspec": {
   "display_name": "Python 3",
   "language": "python",
   "name": "python3"
  },
  "language_info": {
   "codemirror_mode": {
    "name": "ipython",
    "version": 3
   },
   "file_extension": ".py",
   "mimetype": "text/x-python",
   "name": "python",
   "nbconvert_exporter": "python",
   "pygments_lexer": "ipython3",
   "version": "3.8.5"
  }
 },
 "nbformat": 4,
 "nbformat_minor": 4
}
